{
 "cells": [
  {
   "cell_type": "code",
   "execution_count": 1,
   "metadata": {},
   "outputs": [],
   "source": [
    "import os\n",
    "import random\n",
    "import numpy as np\n",
    "from PIL import Image\n",
    "import matplotlib.pylab as plt\n",
    "import cv2"
   ]
  },
  {
   "cell_type": "code",
   "execution_count": 2,
   "metadata": {},
   "outputs": [],
   "source": [
    "def add_laplace_noise(epsilon, image):\n",
    "    noise = np.random.laplace(0, (255*size_m)/(size_b*size_b*epsilon), image.shape)\n",
    "    after = np.clip(image+noise,0,255)\n",
    "    return after.astype(np.uint8)"
   ]
  },
  {
   "cell_type": "code",
   "execution_count": 3,
   "metadata": {},
   "outputs": [],
   "source": [
    "def blur(size_b, image):\n",
    "    kernel=np.ones((size_b,size_b),np.float32)/(size_b*size_b)\n",
    "    return cv2.filter2D(image,-1,kernel)"
   ]
  },
  {
   "cell_type": "code",
   "execution_count": 2,
   "metadata": {},
   "outputs": [],
   "source": [
    "# SET parameter\n",
    "resize_size=256\n",
    "size_b=8\n",
    "size_m=1\n",
    "epsilon=2\n"
   ]
  },
  {
   "cell_type": "code",
   "execution_count": 9,
   "metadata": {},
   "outputs": [],
   "source": [
    "image=Image.open('./박보영1.jpg')\n",
    "image=np.array(image)\n",
    "\n",
    "\n",
    "after2=add_laplace_noise(epsilon,image)\n",
    "im2=Image.fromarray(after2)\n",
    "temp=\"./\"\n",
    "im2.save('./22.png','png')"
   ]
  },
  {
   "cell_type": "code",
   "execution_count": 7,
   "metadata": {},
   "outputs": [
    {
     "data": {
      "text/plain": [
       "<Figure size 1440x1440 with 0 Axes>"
      ]
     },
     "metadata": {},
     "output_type": "display_data"
    }
   ],
   "source": [
    "index=1\n",
    "plt.figure(figsize=(20,20))\n",
    "\n",
    "dir='./data/train/'\n",
    "for image in os.listdir(dir):\n",
    "    path=dir+image\n",
    "    nm=image\n",
    "    image=Image.open(path)\n",
    "    image=image.resize((resize_size,resize_size))\n",
    "    image=np.array(image)\n",
    "\n",
    "    after1=blur(size_b,image)\n",
    "    im1=Image.fromarray(after1)\n",
    "    ###############################################\n",
    "    temp=\"./data/retrain/\"+str(nm)+\"-Blur.png\"\n",
    "    im1.save(temp,'png')\n",
    "    \n",
    "    after2=add_laplace_noise(epsilon,image)\n",
    "    im2=Image.fromarray(after2)\n",
    "    ###############################################\n",
    "    temp=\"./data/retrain/\"+str(nm)+\"-DP.png\"\n",
    "    im2.save(temp,'png')\n",
    "\n",
    "    # plt.subplot(3,3,index)\n",
    "    # plt.title(\"original\",fontsize=20,color='white')\n",
    "    # plt.imshow(image)\n",
    "    \n",
    "    # plt.subplot(3,3,index+1)\n",
    "    # title=\"blur with b=\"+str(size_b)\n",
    "    # plt.title(title,fontsize=20,color='white')\n",
    "    # plt.imshow(after1)\n",
    "    \n",
    "    # plt.subplot(3,3,index+2)\n",
    "    # title=\"blur+Laplace with epsilon=\"+str(epsilon)+\", m=\"+str(size_m)\n",
    "    # plt.title(title,fontsize=20,color='white')\n",
    "    # plt.imshow(after2)\n",
    "\n",
    "    # plt.axis('off')\n",
    "    #index+=3\n",
    "\n",
    "#plt.show\n",
    "#plt.savefig('./result.png')"
   ]
  },
  {
   "cell_type": "code",
   "execution_count": null,
   "metadata": {},
   "outputs": [],
   "source": []
  }
 ],
 "metadata": {
  "kernelspec": {
   "display_name": "Python 3.9.7 ('base': conda)",
   "language": "python",
   "name": "python3"
  },
  "language_info": {
   "codemirror_mode": {
    "name": "ipython",
    "version": 3
   },
   "file_extension": ".py",
   "mimetype": "text/x-python",
   "name": "python",
   "nbconvert_exporter": "python",
   "pygments_lexer": "ipython3",
   "version": "3.9.7"
  },
  "orig_nbformat": 4,
  "vscode": {
   "interpreter": {
    "hash": "4d52b7339183c6e2589e0d57b14d6a23c7d580e07969a7ad08f6a7daf002647c"
   }
  }
 },
 "nbformat": 4,
 "nbformat_minor": 2
}
