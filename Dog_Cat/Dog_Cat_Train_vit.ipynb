{
 "cells": [
  {
   "cell_type": "code",
   "execution_count": 1,
   "metadata": {},
   "outputs": [],
   "source": [
    "import torch, torchvision\n",
    "from torchvision.transforms import ToTensor, Resize\n",
    "from torchvision import transforms\n",
    "import os\n",
    "from PIL import Image\n",
    "from torch.utils.data import DataLoader\n",
    "import torch.nn as nn\n",
    "from torch import optim\n",
    "from tqdm import tqdm\n",
    "import copy\n",
    "import numpy as np\n",
    "from torch.utils.data import Dataset\n",
    "import requests\n",
    "from sklearn.model_selection import train_test_split"
   ]
  },
  {
   "cell_type": "code",
   "execution_count": 2,
   "metadata": {},
   "outputs": [
    {
     "name": "stdout",
     "output_type": "stream",
     "text": [
      "cuda:0\n"
     ]
    }
   ],
   "source": [
    "TRAIN_PATH=\"./data/train\"\n",
    "VAL_PATH='./data/validationdp'\n",
    "NUM_BATCH=32\n",
    "EPOCHS=3\n",
    "LEARNING_RATE=1e-3\n",
    "DEVICE=\"cuda:0\" \n",
    "print(DEVICE)"
   ]
  },
  {
   "cell_type": "code",
   "execution_count": 3,
   "metadata": {},
   "outputs": [
    {
     "name": "stdout",
     "output_type": "stream",
     "text": [
      "Loaded pretrained weights.\n"
     ]
    }
   ],
   "source": [
    "from pytorch_pretrained_vit import ViT\n",
    "model = ViT(\"B_16_imagenet1k\", pretrained=True)\n",
    "#freezing without fc\n",
    "for param in model.parameters():\n",
    "    param.requires_grad=False\n",
    "\n",
    "model.fc=nn.Sequential(*[\n",
    "    nn.Linear(in_features=768, out_features=2),\n",
    "    #nn.Softmax(dim=1)\n",
    "])"
   ]
  },
  {
   "cell_type": "code",
   "execution_count": 4,
   "metadata": {},
   "outputs": [],
   "source": [
    "transform=transforms.Compose([\n",
    "    ToTensor(),\n",
    "    Resize((384,384))\n",
    "])"
   ]
  },
  {
   "cell_type": "code",
   "execution_count": 5,
   "metadata": {},
   "outputs": [],
   "source": [
    "class Dog_Cat_Dataset(Dataset):\n",
    "    def __init__(self, dir, transform=None):\n",
    "        self.dir=dir\n",
    "        self.transform=transform\n",
    "        self.images=os.listdir(dir)\n",
    "    \n",
    "    def __len__(self):\n",
    "        return len(self.images)\n",
    "    \n",
    "    def __getitem__(self, index):\n",
    "        image_path=os.path.join(self.dir,self.images[index])\n",
    "        label=self.images[index].split(\".\")[0]\n",
    "        label=0 if label=='dog' else 1\n",
    "        image=np.array(Image.open(image_path))\n",
    "        image=self.transform(image)\n",
    "        return image,label"
   ]
  },
  {
   "cell_type": "code",
   "execution_count": 6,
   "metadata": {},
   "outputs": [],
   "source": [
    "train_data=Dog_Cat_Dataset(TRAIN_PATH,transform)\n",
    "train_dataloader=DataLoader(train_data,batch_size=NUM_BATCH)\n",
    "val_data=Dog_Cat_Dataset(VAL_PATH,transform)\n",
    "val_dataloader=DataLoader(val_data,batch_size=NUM_BATCH)"
   ]
  },
  {
   "cell_type": "code",
   "execution_count": 7,
   "metadata": {},
   "outputs": [],
   "source": [
    "def validate(model, data):\n",
    "    total =0\n",
    "    correct=0\n",
    "\n",
    "    for(images, labels) in data:\n",
    "        images=images.to(DEVICE)\n",
    "        labels=labels.to(DEVICE)\n",
    "        x=model(images)\n",
    "        pred=torch.argmax(x,1)\n",
    "        total += x.size(0)\n",
    "        correct += torch.sum(pred==labels)\n",
    "        \n",
    "    return correct*100/total"
   ]
  },
  {
   "cell_type": "code",
   "execution_count": 8,
   "metadata": {},
   "outputs": [],
   "source": [
    "def train(num_epoch=EPOCHS, lr=LEARNING_RATE, device=DEVICE):\n",
    "    cnn=model.to(device)\n",
    "    cel=nn.CrossEntropyLoss()\n",
    "    optimizer=optim.Adam(cnn.parameters(),lr=lr,weight_decay=0.5)\n",
    "\n",
    "    max_accuracy=0\n",
    "\n",
    "    for epoch in range(num_epoch):\n",
    "        for i, (images,labels) in tqdm(enumerate(train_dataloader)):\n",
    "            images=images.to(device)\n",
    "            labels=labels.to(device)\n",
    "            optimizer.zero_grad()\n",
    "            pred=cnn(images)\n",
    "            loss=cel(pred,labels)\n",
    "            loss.backward()\n",
    "            optimizer.step()\n",
    "            if i%700==0 and i!=0:\n",
    "                print(\"loss is\",loss.item())\n",
    "        \n",
    "        accuracy=float(validate(cnn,val_dataloader))\n",
    "        if accuracy>max_accuracy:\n",
    "            best_model=copy.deepcopy(cnn)\n",
    "            max_accuracy=accuracy\n",
    "            print(\"find best!\")\n",
    "        print(\"Epoch: \",epoch+1,\"Accuracy: \",accuracy,\"%\")\n",
    "    \n",
    "    return best_model"
   ]
  },
  {
   "cell_type": "code",
   "execution_count": 9,
   "metadata": {},
   "outputs": [
    {
     "name": "stderr",
     "output_type": "stream",
     "text": [
      "702it [04:58,  2.33it/s]"
     ]
    },
    {
     "name": "stdout",
     "output_type": "stream",
     "text": [
      "loss is 0.020126352086663246\n"
     ]
    },
    {
     "name": "stderr",
     "output_type": "stream",
     "text": [
      "719it [05:06,  2.35it/s]\n"
     ]
    },
    {
     "name": "stdout",
     "output_type": "stream",
     "text": [
      "find best!\n",
      "Epoch:  1 Accuracy:  91.32500457763672 %\n"
     ]
    },
    {
     "name": "stderr",
     "output_type": "stream",
     "text": [
      "702it [05:02,  2.33it/s]"
     ]
    },
    {
     "name": "stdout",
     "output_type": "stream",
     "text": [
      "loss is 0.02400299347937107\n"
     ]
    },
    {
     "name": "stderr",
     "output_type": "stream",
     "text": [
      "719it [05:09,  2.32it/s]\n"
     ]
    },
    {
     "name": "stdout",
     "output_type": "stream",
     "text": [
      "find best!\n",
      "Epoch:  2 Accuracy:  91.45000457763672 %\n"
     ]
    },
    {
     "name": "stderr",
     "output_type": "stream",
     "text": [
      "702it [05:03,  2.32it/s]"
     ]
    },
    {
     "name": "stdout",
     "output_type": "stream",
     "text": [
      "loss is 0.031747397035360336\n"
     ]
    },
    {
     "name": "stderr",
     "output_type": "stream",
     "text": [
      "719it [05:10,  2.32it/s]\n"
     ]
    },
    {
     "name": "stdout",
     "output_type": "stream",
     "text": [
      "find best!\n",
      "Epoch:  3 Accuracy:  92.0250015258789 %\n"
     ]
    }
   ],
   "source": [
    "ResNet=train()"
   ]
  },
  {
   "cell_type": "code",
   "execution_count": null,
   "metadata": {},
   "outputs": [],
   "source": [
    "best_cnn=ResNet.to(\"cpu\")\n",
    "torch.save(ResNet, 'ViT_new.pth')"
   ]
  },
  {
   "cell_type": "code",
   "execution_count": null,
   "metadata": {},
   "outputs": [],
   "source": []
  },
  {
   "cell_type": "code",
   "execution_count": null,
   "metadata": {},
   "outputs": [],
   "source": []
  },
  {
   "cell_type": "code",
   "execution_count": null,
   "metadata": {},
   "outputs": [],
   "source": []
  },
  {
   "cell_type": "code",
   "execution_count": null,
   "metadata": {},
   "outputs": [],
   "source": []
  }
 ],
 "metadata": {
  "kernelspec": {
   "display_name": "Python 3.9.7 ('base': conda)",
   "language": "python",
   "name": "python3"
  },
  "language_info": {
   "codemirror_mode": {
    "name": "ipython",
    "version": 3
   },
   "file_extension": ".py",
   "mimetype": "text/x-python",
   "name": "python",
   "nbconvert_exporter": "python",
   "pygments_lexer": "ipython3",
   "version": "3.9.7"
  },
  "orig_nbformat": 4,
  "vscode": {
   "interpreter": {
    "hash": "4d52b7339183c6e2589e0d57b14d6a23c7d580e07969a7ad08f6a7daf002647c"
   }
  }
 },
 "nbformat": 4,
 "nbformat_minor": 2
}
